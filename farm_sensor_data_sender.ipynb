{
 "cells": [
  {
   "cell_type": "code",
   "execution_count": null,
   "metadata": {},
   "outputs": [],
   "source": [
    "# import required library\n",
    "import firebase_admin\n",
    "import google.cloud\n",
    "from firebase_admin import credentials, firestore\n",
    "import names\n",
    "import random\n",
    "from random import randint\n",
    "import string \n",
    "import time\n"
   ]
  },
  {
   "cell_type": "code",
   "execution_count": null,
   "metadata": {},
   "outputs": [],
   "source": [
    "# function defined here\n",
    "\n",
    "\n",
    "# This is imp method to convert DatetimeWithNanoSecond into Datetime\n",
    "def DatetimeWithNanoseconds_To_Datetime(arg):  # arg is DatetimeWithNanoseconds object\n",
    "    import io\n",
    "    from contextlib import redirect_stdout\n",
    "    from datetime import datetime\n",
    "\n",
    "    with io.StringIO() as buf, redirect_stdout(buf):\n",
    "        print(arg)\n",
    "        strVal = buf.getvalue()\n",
    "\n",
    "    strVal = strVal[2:19]\n",
    "\n",
    "    datetime_object = datetime.strptime(strVal, '%y-%m-%d %H:%M:%S') \n",
    "    return datetime_object\n"
   ]
  },
  {
   "cell_type": "code",
   "execution_count": null,
   "metadata": {},
   "outputs": [],
   "source": [
    "\n",
    "# get access to firestore database\n",
    "cred = credentials.Certificate(\"D:/Parth/serviceAccountKey.json\",)\n",
    "firebase_admin.initialize_app(cred)\n",
    "db = firestore.client()\n"
   ]
  },
  {
   "cell_type": "code",
   "execution_count": null,
   "metadata": {},
   "outputs": [],
   "source": [
    "farmer_ref = db.collection('farmers')\n"
   ]
  },
  {
   "cell_type": "code",
   "execution_count": null,
   "metadata": {},
   "outputs": [],
   "source": [
    "# add details about farmer\n",
    "\n",
    "id = ''.join([random.choice(string.ascii_letters + string.digits) for n in range(32)]) \n",
    "\n",
    "tmp = {'name': names.get_full_name(gender='male'), 'age': randint(20,70)}\n",
    "farmer_ref.document(id).create(tmp)"
   ]
  },
  {
   "cell_type": "code",
   "execution_count": null,
   "metadata": {},
   "outputs": [],
   "source": [
    "# add 'farm' collection in a parocular record of 'farmers' collectiom\n",
    "\n",
    "farm_ref = farmer_ref.document('qUatkIY3zahYzXx1tiS99ohv4IMERsLK').collection('farm')\n",
    "\n",
    "\n",
    "for i in range(1):\n",
    "    #add farm details about farmer (may have more than 1 farm)\n",
    "    farm = {'humidity': randint(20,70),\n",
    "      'temp': randint(20,45),\n",
    "      'soil moisture': randint(20,70),\n",
    "        'rooftop': bool(random.getrandbits(1)),\n",
    "      'pump': bool(random.getrandbits(1)),\n",
    "        'timestamp':firestore.SERVER_TIMESTAMP}\n",
    "\n",
    "    farm_ref.add(farm)\n",
    "    time.sleep(60)"
   ]
  },
  {
   "cell_type": "code",
   "execution_count": null,
   "metadata": {},
   "outputs": [],
   "source": [
    "\n"
   ]
  },
  {
   "cell_type": "code",
   "execution_count": null,
   "metadata": {},
   "outputs": [],
   "source": [
    "farm_ref = farmer_ref.document('qUatkIY3zahYzXx1tiS99ohv4IMERsLK').collection('farm')\n",
    "\n",
    "data = []\n",
    "\n",
    "docs = farm_ref.get()\n",
    "for doc in docs:\n",
    "    tmp = doc.to_dict()\n",
    "    tmp.update({'id': doc.id})\n",
    "    data.append(tmp)\n",
    "\n"
   ]
  },
  {
   "cell_type": "code",
   "execution_count": null,
   "metadata": {},
   "outputs": [],
   "source": [
    "data[1]['timetamp']"
   ]
  },
  {
   "cell_type": "code",
   "execution_count": null,
   "metadata": {},
   "outputs": [],
   "source": []
  },
  {
   "cell_type": "code",
   "execution_count": null,
   "metadata": {},
   "outputs": [],
   "source": [
    "import datetime\n",
    "import random\n",
    "import matplotlib.pyplot as plt\n",
    "\n",
    "\n",
    "tmp = []\n",
    "x = []\n",
    "y = []\n",
    "for i in data:\n",
    "    x.append(DatetimeWithNanoseconds_To_Datetime(i['timetamp']))    # Wrong spelling of timestamp, need to chage in firestore also \n",
    "    y.append(i['humidity'])\n",
    "\n",
    "x = sorted(x)\n",
    "\n",
    "\n",
    "# plot\n",
    "plt.plot(x_tmp,y)\n",
    "# beautify the x-labels\n",
    "plt.gcf().autofmt_xdate()\n",
    "\n",
    "plt.show()"
   ]
  },
  {
   "cell_type": "code",
   "execution_count": null,
   "metadata": {},
   "outputs": [],
   "source": [
    "\n",
    "    "
   ]
  }
 ],
 "metadata": {
  "kernelspec": {
   "display_name": "Python 3",
   "language": "python",
   "name": "python3"
  },
  "language_info": {
   "codemirror_mode": {
    "name": "ipython",
    "version": 3
   },
   "file_extension": ".py",
   "mimetype": "text/x-python",
   "name": "python",
   "nbconvert_exporter": "python",
   "pygments_lexer": "ipython3",
   "version": "3.7.1"
  }
 },
 "nbformat": 4,
 "nbformat_minor": 2
}
